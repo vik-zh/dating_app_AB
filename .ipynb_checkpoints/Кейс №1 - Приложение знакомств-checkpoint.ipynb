{
 "cells": [
  {
   "cell_type": "markdown",
   "metadata": {},
   "source": [
    "# Анализ нового алгоритма подбора пары в приложении для знакомств"
   ]
  },
  {
   "cell_type": "markdown",
   "metadata": {},
   "source": [
    " "
   ]
  },
  {
   "cell_type": "markdown",
   "metadata": {},
   "source": [
    "**импортируем основные библиотеки и задаем значение альфа:**"
   ]
  },
  {
   "cell_type": "code",
   "execution_count": 15,
   "metadata": {},
   "outputs": [],
   "source": [
    "import pandas as pd\n",
    "import numpy as np\n",
    "import scipy.stats as ss\n",
    "import matplotlib as plt\n",
    "import seaborn as sns \n",
    "import plotly.express as px\n",
    "import matplotlib.pyplot as plt\n",
    "from scipy.stats import chi2_contingency, chi2\n",
    "\n",
    "alpha = 0.05"
   ]
  },
  {
   "cell_type": "markdown",
   "metadata": {},
   "source": [
    "**считаем данные и посмотрим на их структуру:**"
   ]
  },
  {
   "cell_type": "code",
   "execution_count": 42,
   "metadata": {},
   "outputs": [],
   "source": [
    "dating_data = pd.read_csv('dating_data.csv')"
   ]
  },
  {
   "cell_type": "code",
   "execution_count": 43,
   "metadata": {},
   "outputs": [
    {
     "data": {
      "text/html": [
       "<div>\n",
       "<style scoped>\n",
       "    .dataframe tbody tr th:only-of-type {\n",
       "        vertical-align: middle;\n",
       "    }\n",
       "\n",
       "    .dataframe tbody tr th {\n",
       "        vertical-align: top;\n",
       "    }\n",
       "\n",
       "    .dataframe thead th {\n",
       "        text-align: right;\n",
       "    }\n",
       "</style>\n",
       "<table border=\"1\" class=\"dataframe\">\n",
       "  <thead>\n",
       "    <tr style=\"text-align: right;\">\n",
       "      <th></th>\n",
       "      <th>user_id_1</th>\n",
       "      <th>user_id_2</th>\n",
       "      <th>group</th>\n",
       "      <th>is_match</th>\n",
       "    </tr>\n",
       "  </thead>\n",
       "  <tbody>\n",
       "    <tr>\n",
       "      <th>0</th>\n",
       "      <td>79</td>\n",
       "      <td>91</td>\n",
       "      <td>1</td>\n",
       "      <td>1</td>\n",
       "    </tr>\n",
       "    <tr>\n",
       "      <th>1</th>\n",
       "      <td>716</td>\n",
       "      <td>353</td>\n",
       "      <td>1</td>\n",
       "      <td>1</td>\n",
       "    </tr>\n",
       "    <tr>\n",
       "      <th>2</th>\n",
       "      <td>423</td>\n",
       "      <td>677</td>\n",
       "      <td>0</td>\n",
       "      <td>0</td>\n",
       "    </tr>\n",
       "    <tr>\n",
       "      <th>3</th>\n",
       "      <td>658</td>\n",
       "      <td>165</td>\n",
       "      <td>1</td>\n",
       "      <td>1</td>\n",
       "    </tr>\n",
       "    <tr>\n",
       "      <th>4</th>\n",
       "      <td>969</td>\n",
       "      <td>155</td>\n",
       "      <td>0</td>\n",
       "      <td>1</td>\n",
       "    </tr>\n",
       "  </tbody>\n",
       "</table>\n",
       "</div>"
      ],
      "text/plain": [
       "   user_id_1  user_id_2  group  is_match\n",
       "0         79         91      1         1\n",
       "1        716        353      1         1\n",
       "2        423        677      0         0\n",
       "3        658        165      1         1\n",
       "4        969        155      0         1"
      ]
     },
     "execution_count": 43,
     "metadata": {},
     "output_type": "execute_result"
    }
   ],
   "source": [
    "dating_data.head()"
   ]
  },
  {
   "cell_type": "markdown",
   "metadata": {},
   "source": [
    "**проверим число строк и столбцов:**"
   ]
  },
  {
   "cell_type": "code",
   "execution_count": 44,
   "metadata": {},
   "outputs": [
    {
     "data": {
      "text/plain": [
       "(14514, 4)"
      ]
     },
     "execution_count": 44,
     "metadata": {},
     "output_type": "execute_result"
    }
   ],
   "source": [
    "dating_data.shape"
   ]
  },
  {
   "cell_type": "markdown",
   "metadata": {},
   "source": [
    "**для удобства использования заменим идентификатор группы и мэтча на строковый вариант:**"
   ]
  },
  {
   "cell_type": "code",
   "execution_count": 45,
   "metadata": {},
   "outputs": [
    {
     "data": {
      "text/html": [
       "<div>\n",
       "<style scoped>\n",
       "    .dataframe tbody tr th:only-of-type {\n",
       "        vertical-align: middle;\n",
       "    }\n",
       "\n",
       "    .dataframe tbody tr th {\n",
       "        vertical-align: top;\n",
       "    }\n",
       "\n",
       "    .dataframe thead th {\n",
       "        text-align: right;\n",
       "    }\n",
       "</style>\n",
       "<table border=\"1\" class=\"dataframe\">\n",
       "  <thead>\n",
       "    <tr style=\"text-align: right;\">\n",
       "      <th></th>\n",
       "      <th>user_id_1</th>\n",
       "      <th>user_id_2</th>\n",
       "      <th>group</th>\n",
       "      <th>is_match</th>\n",
       "      <th>match_group</th>\n",
       "    </tr>\n",
       "  </thead>\n",
       "  <tbody>\n",
       "    <tr>\n",
       "      <th>0</th>\n",
       "      <td>79</td>\n",
       "      <td>91</td>\n",
       "      <td>new_version</td>\n",
       "      <td>1</td>\n",
       "      <td>match</td>\n",
       "    </tr>\n",
       "    <tr>\n",
       "      <th>1</th>\n",
       "      <td>716</td>\n",
       "      <td>353</td>\n",
       "      <td>new_version</td>\n",
       "      <td>1</td>\n",
       "      <td>match</td>\n",
       "    </tr>\n",
       "    <tr>\n",
       "      <th>2</th>\n",
       "      <td>423</td>\n",
       "      <td>677</td>\n",
       "      <td>old_version</td>\n",
       "      <td>0</td>\n",
       "      <td>not_match</td>\n",
       "    </tr>\n",
       "    <tr>\n",
       "      <th>3</th>\n",
       "      <td>658</td>\n",
       "      <td>165</td>\n",
       "      <td>new_version</td>\n",
       "      <td>1</td>\n",
       "      <td>match</td>\n",
       "    </tr>\n",
       "    <tr>\n",
       "      <th>4</th>\n",
       "      <td>969</td>\n",
       "      <td>155</td>\n",
       "      <td>old_version</td>\n",
       "      <td>1</td>\n",
       "      <td>match</td>\n",
       "    </tr>\n",
       "  </tbody>\n",
       "</table>\n",
       "</div>"
      ],
      "text/plain": [
       "   user_id_1  user_id_2        group  is_match match_group\n",
       "0         79         91  new_version         1       match\n",
       "1        716        353  new_version         1       match\n",
       "2        423        677  old_version         0   not_match\n",
       "3        658        165  new_version         1       match\n",
       "4        969        155  old_version         1       match"
      ]
     },
     "execution_count": 45,
     "metadata": {},
     "output_type": "execute_result"
    }
   ],
   "source": [
    "dating_data['group'] = dating_data['group'].apply(lambda x: 'new_version' if x==1 else 'old_version')\n",
    "dating_data['match_group'] = dating_data['is_match'].apply(lambda x: 'match' if x==1 else 'not_match')\n",
    "dating_data.head()"
   ]
  },
  {
   "cell_type": "markdown",
   "metadata": {},
   "source": [
    "**для проверки наличия ошибки, когда один и тот же юзер попал в разные группы, создаем датафреймы по каждой группе:**"
   ]
  },
  {
   "cell_type": "code",
   "execution_count": 46,
   "metadata": {},
   "outputs": [],
   "source": [
    "user_id_1 = dating_data.groupby('user_id_1').group.unique().reset_index()\n",
    "user_id_2 = dating_data.groupby('user_id_2').group.unique().reset_index()"
   ]
  },
  {
   "cell_type": "markdown",
   "metadata": {},
   "source": [
    "**джойним две группы по id юзера:**"
   ]
  },
  {
   "cell_type": "code",
   "execution_count": 47,
   "metadata": {},
   "outputs": [
    {
     "data": {
      "text/html": [
       "<div>\n",
       "<style scoped>\n",
       "    .dataframe tbody tr th:only-of-type {\n",
       "        vertical-align: middle;\n",
       "    }\n",
       "\n",
       "    .dataframe tbody tr th {\n",
       "        vertical-align: top;\n",
       "    }\n",
       "\n",
       "    .dataframe thead th {\n",
       "        text-align: right;\n",
       "    }\n",
       "</style>\n",
       "<table border=\"1\" class=\"dataframe\">\n",
       "  <thead>\n",
       "    <tr style=\"text-align: right;\">\n",
       "      <th></th>\n",
       "      <th>user_id_1</th>\n",
       "      <th>group_x</th>\n",
       "      <th>user_id_2</th>\n",
       "      <th>group_y</th>\n",
       "    </tr>\n",
       "  </thead>\n",
       "  <tbody>\n",
       "    <tr>\n",
       "      <th>0</th>\n",
       "      <td>1</td>\n",
       "      <td>[new_version]</td>\n",
       "      <td>1</td>\n",
       "      <td>[new_version]</td>\n",
       "    </tr>\n",
       "    <tr>\n",
       "      <th>1</th>\n",
       "      <td>2</td>\n",
       "      <td>[new_version]</td>\n",
       "      <td>2</td>\n",
       "      <td>[new_version]</td>\n",
       "    </tr>\n",
       "    <tr>\n",
       "      <th>2</th>\n",
       "      <td>3</td>\n",
       "      <td>[new_version]</td>\n",
       "      <td>3</td>\n",
       "      <td>[new_version]</td>\n",
       "    </tr>\n",
       "    <tr>\n",
       "      <th>3</th>\n",
       "      <td>4</td>\n",
       "      <td>[old_version]</td>\n",
       "      <td>4</td>\n",
       "      <td>[old_version]</td>\n",
       "    </tr>\n",
       "    <tr>\n",
       "      <th>4</th>\n",
       "      <td>5</td>\n",
       "      <td>[new_version]</td>\n",
       "      <td>5</td>\n",
       "      <td>[new_version]</td>\n",
       "    </tr>\n",
       "  </tbody>\n",
       "</table>\n",
       "</div>"
      ],
      "text/plain": [
       "   user_id_1        group_x  user_id_2        group_y\n",
       "0          1  [new_version]          1  [new_version]\n",
       "1          2  [new_version]          2  [new_version]\n",
       "2          3  [new_version]          3  [new_version]\n",
       "3          4  [old_version]          4  [old_version]\n",
       "4          5  [new_version]          5  [new_version]"
      ]
     },
     "execution_count": 47,
     "metadata": {},
     "output_type": "execute_result"
    }
   ],
   "source": [
    "users_check = pd.merge(user_id_1, user_id_2, left_on = 'user_id_1', right_on = 'user_id_2')\n",
    "users_check.head()"
   ]
  },
  {
   "cell_type": "markdown",
   "metadata": {},
   "source": [
    "**проверяем, есть ли юзеры, у которых группы различаются - таких юзеров нет:**"
   ]
  },
  {
   "cell_type": "code",
   "execution_count": 48,
   "metadata": {},
   "outputs": [
    {
     "data": {
      "text/html": [
       "<div>\n",
       "<style scoped>\n",
       "    .dataframe tbody tr th:only-of-type {\n",
       "        vertical-align: middle;\n",
       "    }\n",
       "\n",
       "    .dataframe tbody tr th {\n",
       "        vertical-align: top;\n",
       "    }\n",
       "\n",
       "    .dataframe thead th {\n",
       "        text-align: right;\n",
       "    }\n",
       "</style>\n",
       "<table border=\"1\" class=\"dataframe\">\n",
       "  <thead>\n",
       "    <tr style=\"text-align: right;\">\n",
       "      <th></th>\n",
       "      <th>user_id_1</th>\n",
       "      <th>group_x</th>\n",
       "      <th>user_id_2</th>\n",
       "      <th>group_y</th>\n",
       "    </tr>\n",
       "  </thead>\n",
       "  <tbody>\n",
       "  </tbody>\n",
       "</table>\n",
       "</div>"
      ],
      "text/plain": [
       "Empty DataFrame\n",
       "Columns: [user_id_1, group_x, user_id_2, group_y]\n",
       "Index: []"
      ]
     },
     "execution_count": 48,
     "metadata": {},
     "output_type": "execute_result"
    }
   ],
   "source": [
    "users_check.query('group_x != group_y')"
   ]
  },
  {
   "cell_type": "markdown",
   "metadata": {},
   "source": [
    "  "
   ]
  },
  {
   "cell_type": "markdown",
   "metadata": {},
   "source": [
    "### проверим, изменилось ли количество свайпов, т.е. **выросла ли активность юзеров** с новым алгоритмом:"
   ]
  },
  {
   "cell_type": "code",
   "execution_count": 49,
   "metadata": {},
   "outputs": [
    {
     "name": "stdout",
     "output_type": "stream",
     "text": [
      "Среднее количество свайпов при старом алгоритме: 9.564870259481038\n",
      "Среднее количество свайпов при новом алгоритме: 19.482965931863728\n"
     ]
    }
   ],
   "source": [
    "old_activity_by_user = dating_data.query('group==\"old_version\"').groupby('user_id_1').is_match.count().reset_index()\n",
    "new_activity_by_user = dating_data.query('group==\"new_version\"').groupby('user_id_1').is_match.count().reset_index()\n",
    "\n",
    "print(f'Среднее количество свайпов при старом алгоритме: {old_activity_by_user.is_match.mean()}')\n",
    "print(f'Среднее количество свайпов при новом алгоритме: {new_activity_by_user.is_match.mean()}')"
   ]
  },
  {
   "cell_type": "code",
   "execution_count": 50,
   "metadata": {},
   "outputs": [
    {
     "data": {
      "text/plain": [
       "Text(0, 0.5, 'число юзеров')"
      ]
     },
     "execution_count": 50,
     "metadata": {},
     "output_type": "execute_result"
    },
    {
     "data": {
      "image/png": "[encoded data removed]",
      "text/plain": [
       "<Figure size 720x216 with 1 Axes>"
      ]
     },
     "metadata": {
      "needs_background": "light"
     },
     "output_type": "display_data"
    },
    {
     "data": {
      "image/png": "[encoded data removed]",
      "text/plain": [
       "<Figure size 720x216 with 1 Axes>"
      ]
     },
     "metadata": {
      "needs_background": "light"
     },
     "output_type": "display_data"
    }
   ],
   "source": [
    "plt.figure(figsize=(10,3))\n",
    "plt.hist(old_activity_by_user.is_match, 10, color='green')\n",
    "plt.title('Число свайпов на юзера при использовании старого алгоритма')\n",
    "plt.xlabel('число свайпов')\n",
    "plt.ylabel('число юзеров')\n",
    "\n",
    "plt.figure(figsize=(10,3))\n",
    "plt.hist(new_activity_by_user.is_match, 10, color='green')\n",
    "plt.title('Число свайпов на юзера при использовании нового алгоритма')\n",
    "plt.xlabel('число свайпов')\n",
    "plt.ylabel('число юзеров')"
   ]
  },
  {
   "cell_type": "markdown",
   "metadata": {},
   "source": [
    "**проверим распределения на нормальность:**"
   ]
  },
  {
   "cell_type": "code",
   "execution_count": 51,
   "metadata": {},
   "outputs": [
    {
     "name": "stdout",
     "output_type": "stream",
     "text": [
      "для контрольной группы:  ShapiroResult(statistic=0.9884836673736572, pvalue=0.00055683683604002)\n",
      "для тестовой группы:  ShapiroResult(statistic=0.9839291572570801, pvalue=2.540682726248633e-05)\n"
     ]
    }
   ],
   "source": [
    "print('для контрольной группы: ', ss.shapiro(old_activity_by_user.is_match))\n",
    "print('для тестовой группы: ', ss.shapiro(new_activity_by_user.is_match))"
   ]
  },
  {
   "cell_type": "markdown",
   "metadata": {},
   "source": [
    " "
   ]
  },
  {
   "cell_type": "markdown",
   "metadata": {},
   "source": [
    "**распределения ненормальные, но т.к. число наблюдений в каждой группе > 30, можем применить для сравнения средних t-test:**"
   ]
  },
  {
   "cell_type": "code",
   "execution_count": 52,
   "metadata": {},
   "outputs": [
    {
     "name": "stdout",
     "output_type": "stream",
     "text": [
      "p-value ниже порогового значения:  1.8942877064043142e-285\n"
     ]
    }
   ],
   "source": [
    "stat_1, p_1 = ss.ttest_ind(a=old_activity_by_user.is_match, b=new_activity_by_user.is_match, equal_var=True)\n",
    "if p_1 < alpha:\n",
    "    print('p-value ниже порогового значения: ', p_1)\n",
    "else:\n",
    "    print('p-value выше порогового значения: ', p_1)"
   ]
  },
  {
   "cell_type": "markdown",
   "metadata": {},
   "source": [
    "> ***P-value теста < 0.05, что позволяет отвергнуть нулевую гипотезу о равестве средних и принять гипотезу, что при новом алгоритме среденее число свайпов на юзера выросло относительно старого алгоритма.\\\n",
    "Выше мы применили equal_var = True, т.к. при проверке дисперсий двух выборок отношение бОльшей дисперсии к меньшей < 4, что позволяет предположить, что дисперсии равны:***"
   ]
  },
  {
   "cell_type": "code",
   "execution_count": 53,
   "metadata": {},
   "outputs": [
    {
     "name": "stdout",
     "output_type": "stream",
     "text": [
      "1.0\n"
     ]
    }
   ],
   "source": [
    "print(np.var(old_activity_by_user.is_match)/np.var(old_activity_by_user.is_match))"
   ]
  },
  {
   "cell_type": "markdown",
   "metadata": {},
   "source": [
    "### теперь проверим изменение числа мэтчей в целом в приложении\n",
    "**создадим кростаблицу для просмотра данных:**"
   ]
  },
  {
   "cell_type": "code",
   "execution_count": 28,
   "metadata": {},
   "outputs": [
    {
     "data": {
      "text/html": [
       "<div>\n",
       "<style scoped>\n",
       "    .dataframe tbody tr th:only-of-type {\n",
       "        vertical-align: middle;\n",
       "    }\n",
       "\n",
       "    .dataframe tbody tr th {\n",
       "        vertical-align: top;\n",
       "    }\n",
       "\n",
       "    .dataframe thead th {\n",
       "        text-align: right;\n",
       "    }\n",
       "</style>\n",
       "<table border=\"1\" class=\"dataframe\">\n",
       "  <thead>\n",
       "    <tr style=\"text-align: right;\">\n",
       "      <th>match_group</th>\n",
       "      <th>match</th>\n",
       "      <th>not_match</th>\n",
       "    </tr>\n",
       "    <tr>\n",
       "      <th>group</th>\n",
       "      <th></th>\n",
       "      <th></th>\n",
       "    </tr>\n",
       "  </thead>\n",
       "  <tbody>\n",
       "    <tr>\n",
       "      <th>new_version</th>\n",
       "      <td>3909</td>\n",
       "      <td>5813</td>\n",
       "    </tr>\n",
       "    <tr>\n",
       "      <th>old_version</th>\n",
       "      <td>934</td>\n",
       "      <td>3858</td>\n",
       "    </tr>\n",
       "  </tbody>\n",
       "</table>\n",
       "</div>"
      ],
      "text/plain": [
       "match_group  match  not_match\n",
       "group                        \n",
       "new_version   3909       5813\n",
       "old_version    934       3858"
      ]
     },
     "execution_count": 28,
     "metadata": {},
     "output_type": "execute_result"
    }
   ],
   "source": [
    "pd.crosstab(dating_data.group, \n",
    "            dating_data.match_group)"
   ]
  },
  {
   "cell_type": "markdown",
   "metadata": {},
   "source": [
    "**посмотрим на получившееся распределение визуально:**"
   ]
  },
  {
   "cell_type": "code",
   "execution_count": 29,
   "metadata": {},
   "outputs": [
    {
     "data": {
      "text/plain": [
       "<seaborn.axisgrid.FacetGrid at 0x7f4caf517278>"
      ]
     },
     "execution_count": 29,
     "metadata": {},
     "output_type": "execute_result"
    },
    {
     "data": {
      "image/png": "[encoded data removed]",
      "text/plain": [
       "<Figure size 448.75x360 with 1 Axes>"
      ]
     },
     "metadata": {
      "needs_background": "light"
     },
     "output_type": "display_data"
    }
   ],
   "source": [
    "sns.displot(data=dating_data, x='group', hue='match_group')"
   ]
  },
  {
   "cell_type": "markdown",
   "metadata": {},
   "source": [
    "> **визуально мы видим, что доля мэтчей в новой версии существенно возросла относительно старого алгоритма. Проверим с помощью хи-квардрата:**"
   ]
  },
  {
   "cell_type": "code",
   "execution_count": 30,
   "metadata": {},
   "outputs": [
    {
     "name": "stdout",
     "output_type": "stream",
     "text": [
      "p-value:  1.4418299163662586e-136\n",
      "p-value при Хи-квартате ниже порогового значения, число мэтчей с новым алгоритмом статистически значимо возросло относительно прошлой версии\n"
     ]
    }
   ],
   "source": [
    "stat_2, p_2, dof, expected = chi2_contingency(pd.crosstab(dating_data.group, dating_data.match_group))\n",
    "if p_2 < alpha:\n",
    "    print('p-value: ', p_2)\n",
    "    print('p-value при Хи-квартате ниже порогового значения, число мэтчей с новым алгоритмом статистически значимо возросло относительно прошлой версии')\n",
    "else:\n",
    "    print('p-value: ', p_2)\n",
    "    print('p-value при Хи-квартате выше порогового значения, не обнаружено статистически значимых различий в числе мэтчей между двумя алгоритмами')"
   ]
  },
  {
   "cell_type": "markdown",
   "metadata": {},
   "source": [
    "### далее проверим, изменилось ли среднее число мэтчей на юзера:"
   ]
  },
  {
   "cell_type": "code",
   "execution_count": 31,
   "metadata": {},
   "outputs": [
    {
     "name": "stdout",
     "output_type": "stream",
     "text": [
      "Среднее количество мэтчей на юзера при старом алгоритме: 1.8642714570858283\n",
      "Среднее количество мэтчей на юзера при новом алгоритме: 7.833667334669339\n"
     ]
    }
   ],
   "source": [
    "group_1_by_user = dating_data.query(\"group =='new_version'\").groupby('user_id_1').is_match.sum().reset_index()\n",
    "group_0_by_user = dating_data.query(\"group =='old_version'\").groupby('user_id_1').is_match.sum().reset_index()\n",
    "\n",
    "print(f'Среднее количество мэтчей на юзера при старом алгоритме: {group_0_by_user.is_match.mean()}')\n",
    "print(f'Среднее количество мэтчей на юзера при новом алгоритме: {group_1_by_user.is_match.mean()}')"
   ]
  },
  {
   "cell_type": "code",
   "execution_count": 32,
   "metadata": {},
   "outputs": [
    {
     "data": {
      "text/plain": [
       "Text(0, 0.5, 'число юзеров')"
      ]
     },
     "execution_count": 32,
     "metadata": {},
     "output_type": "execute_result"
    },
    {
     "data": {
      "image/png": "[encoded data removed]",
      "text/plain": [
       "<Figure size 720x216 with 1 Axes>"
      ]
     },
     "metadata": {
      "needs_background": "light"
     },
     "output_type": "display_data"
    },
    {
     "data": {
      "image/png": "[encoded data removed]",
      "text/plain": [
       "<Figure size 720x216 with 1 Axes>"
      ]
     },
     "metadata": {
      "needs_background": "light"
     },
     "output_type": "display_data"
    }
   ],
   "source": [
    "# построим диаграммы распределения для каждой группы, чтобы визуально оценить данные: \n",
    "plt.figure(figsize=(10,3))\n",
    "plt.hist(group_0_by_user.is_match, 10, color='green')\n",
    "plt.title('Число мэтчей на юзера при использовании старого алгоритма')\n",
    "plt.xlabel('число мэтчей')\n",
    "plt.ylabel('число юзеров')\n",
    "\n",
    "plt.figure(figsize=(10,3))\n",
    "plt.hist(group_1_by_user.is_match, 10, color='green')\n",
    "plt.title('Число мэтчей на юзера при использовании нового алгоритма')\n",
    "plt.xlabel('число мэтчей')\n",
    "plt.ylabel('число юзеров')"
   ]
  },
  {
   "cell_type": "markdown",
   "metadata": {},
   "source": [
    "**визуально распределения похожи на нормальные, но для большей уверенности проверим нормальность тестом Шапиро-Уилка:**"
   ]
  },
  {
   "cell_type": "code",
   "execution_count": 33,
   "metadata": {},
   "outputs": [
    {
     "name": "stdout",
     "output_type": "stream",
     "text": [
      "для контрольной группы:  ShapiroResult(statistic=0.9097217321395874, pvalue=1.1023814847670518e-16)\n",
      "для тестовой группы:  ShapiroResult(statistic=0.9825388193130493, pvalue=1.0627190022205468e-05)\n"
     ]
    }
   ],
   "source": [
    "print('для контрольной группы: ', ss.shapiro(group_0_by_user.is_match))\n",
    "print('для тестовой группы: ', ss.shapiro(group_1_by_user.is_match))"
   ]
  },
  {
   "cell_type": "markdown",
   "metadata": {},
   "source": [
    "**в соответствии с результатами теста, распределения ненормальные, но т.к. число наблюдений в каждой группе > 30, можем применить для сравнения средних t-test:**"
   ]
  },
  {
   "cell_type": "code",
   "execution_count": 34,
   "metadata": {},
   "outputs": [
    {
     "name": "stdout",
     "output_type": "stream",
     "text": [
      "p-value ниже порогового значения:  2.2880416014858935e-256\n"
     ]
    }
   ],
   "source": [
    "stat_3, p_3 = ss.ttest_ind(a=group_0_by_user.is_match, b=group_1_by_user.is_match, equal_var=True)\n",
    "p_3\n",
    "if p_3 < alpha:\n",
    "    print('p-value ниже порогового значения: ', p_3)\n",
    "else:\n",
    "    print('p-value выше порогового значения: ', p_3)"
   ]
  },
  {
   "cell_type": "markdown",
   "metadata": {},
   "source": [
    "> **P-value теста < 0.05, что позволяет отвергнуть нулевую гипотезу о равестве средних и принять гипотезу, что при новом алгоритме среднее число мэтчей на юзера больше, чем при старом.\\\n",
    "Выше мы применили equal_var = True, т.к. при проверке дисперсий двух выборок отношение бОльшей дисперсии к меньшей < 4, что позволяет предположить, что дисперсии равны:**"
   ]
  },
  {
   "cell_type": "code",
   "execution_count": 35,
   "metadata": {},
   "outputs": [
    {
     "name": "stdout",
     "output_type": "stream",
     "text": [
      "3.3228160467178918\n"
     ]
    }
   ],
   "source": [
    "print(np.var(group_1_by_user.is_match)/np.var(group_0_by_user.is_match))"
   ]
  },
  {
   "cell_type": "markdown",
   "metadata": {},
   "source": [
    "### последней метрикой проверки качества алгоритма будет число пользователей, у которых не случилось ни одного мэтча:"
   ]
  },
  {
   "cell_type": "code",
   "execution_count": 36,
   "metadata": {},
   "outputs": [],
   "source": [
    "matches_data = dating_data.groupby(['user_id_1','group']).is_match.sum().reset_index()"
   ]
  },
  {
   "cell_type": "code",
   "execution_count": 37,
   "metadata": {},
   "outputs": [],
   "source": [
    "matches_data['matches_count'] = matches_data[\"is_match\"].apply(lambda x: '>0' if x >0 else '0')"
   ]
  },
  {
   "cell_type": "code",
   "execution_count": 38,
   "metadata": {},
   "outputs": [
    {
     "data": {
      "text/html": [
       "<div>\n",
       "<style scoped>\n",
       "    .dataframe tbody tr th:only-of-type {\n",
       "        vertical-align: middle;\n",
       "    }\n",
       "\n",
       "    .dataframe tbody tr th {\n",
       "        vertical-align: top;\n",
       "    }\n",
       "\n",
       "    .dataframe thead th {\n",
       "        text-align: right;\n",
       "    }\n",
       "</style>\n",
       "<table border=\"1\" class=\"dataframe\">\n",
       "  <thead>\n",
       "    <tr style=\"text-align: right;\">\n",
       "      <th>matches_count</th>\n",
       "      <th>0</th>\n",
       "      <th>&gt;0</th>\n",
       "    </tr>\n",
       "    <tr>\n",
       "      <th>group</th>\n",
       "      <th></th>\n",
       "      <th></th>\n",
       "    </tr>\n",
       "  </thead>\n",
       "  <tbody>\n",
       "    <tr>\n",
       "      <th>new_version</th>\n",
       "      <td>1</td>\n",
       "      <td>498</td>\n",
       "    </tr>\n",
       "    <tr>\n",
       "      <th>old_version</th>\n",
       "      <td>79</td>\n",
       "      <td>422</td>\n",
       "    </tr>\n",
       "  </tbody>\n",
       "</table>\n",
       "</div>"
      ],
      "text/plain": [
       "matches_count   0   >0\n",
       "group                 \n",
       "new_version     1  498\n",
       "old_version    79  422"
      ]
     },
     "execution_count": 38,
     "metadata": {},
     "output_type": "execute_result"
    }
   ],
   "source": [
    "pd.crosstab(matches_data.group, matches_data.matches_count)"
   ]
  },
  {
   "cell_type": "markdown",
   "metadata": {},
   "source": [
    "**посмотрим на получившееся распределение визуально:**"
   ]
  },
  {
   "cell_type": "code",
   "execution_count": 39,
   "metadata": {},
   "outputs": [
    {
     "data": {
      "text/plain": [
       "<seaborn.axisgrid.FacetGrid at 0x7f4cacdccfd0>"
      ]
     },
     "execution_count": 39,
     "metadata": {},
     "output_type": "execute_result"
    },
    {
     "data": {
      "image/png": "[encoded data removed]",
      "text/plain": [
       "<Figure size 444x360 with 1 Axes>"
      ]
     },
     "metadata": {
      "needs_background": "light"
     },
     "output_type": "display_data"
    }
   ],
   "source": [
    "sns.displot(data=matches_data, x='group', hue='matches_count')"
   ]
  },
  {
   "cell_type": "markdown",
   "metadata": {},
   "source": [
    ">**визуально видно, что число юзеров без мэтчей в новой версии существенно снизилось относительно старого алгоритма. Проверим с помощью хи-квардрата:**"
   ]
  },
  {
   "cell_type": "code",
   "execution_count": 40,
   "metadata": {},
   "outputs": [
    {
     "name": "stdout",
     "output_type": "stream",
     "text": [
      "p-value:  3.3445968011462423e-19\n",
      "p-value при Хи-квартате ниже порогового значения, число юзеров без мэтча статистически значимо снизилось относительно прошлой версии\n"
     ]
    }
   ],
   "source": [
    "stat, p_4, dof, expected = chi2_contingency(pd.crosstab(matches_data.group, matches_data.matches_count))\n",
    "if p_4 < alpha:\n",
    "    print('p-value: ', p_4)\n",
    "    print('p-value при Хи-квартате ниже порогового значения, число юзеров без мэтча статистически значимо снизилось относительно прошлой версии')\n",
    "else:\n",
    "    print('p-value: ', p_4)\n",
    "    print('p-value при Хи-квартате выше порогового значения, не обнаружено статистически значимых различий в число юзеров без мэтча')"
   ]
  },
  {
   "cell_type": "markdown",
   "metadata": {},
   "source": [
    "**итого, сведем результаты всех метрик:**"
   ]
  },
  {
   "cell_type": "code",
   "execution_count": 41,
   "metadata": {},
   "outputs": [
    {
     "name": "stdout",
     "output_type": "stream",
     "text": [
      "Метрика: Число свайпов.\n",
      "Используемый тест: t-test.\n",
      "P-value: 1.8942877064043142e-285.\n",
      "Эффект: +: Стат. значимый рост.\n",
      " \n",
      "Метрика: Общее число мэтчей.\n",
      "Используемый тест: хи-квадрат.\n",
      "P-value: 1.4418299163662586e-136.\n",
      "Эффект: +: Стат. значимый рост.\n",
      " \n",
      "Метрика: Число мэтчей на юзера.\n",
      "Используемый тест: t-test.\n",
      "P-value: 2.2880416014858935e-256.\n",
      "Эффект: +: Стат. значимый рост.\n",
      " \n",
      "Метрика: Число юзеров без мэтчей.\n",
      "Используемый тест: хи-квадрат.\n",
      "P-value: 3.3445968011462423e-19.\n",
      "Эффект: +: Стат. значимое снижение.\n"
     ]
    }
   ],
   "source": [
    "print('Метрика: Число свайпов.')\n",
    "print('Используемый тест: t-test.')\n",
    "print(f'P-value: {p_1}.') \n",
    "print('Эффект: +: Стат. значимый рост.')\n",
    "print(' ')\n",
    "print('Метрика: Общее число мэтчей.')\n",
    "print('Используемый тест: хи-квадрат.')\n",
    "print(f'P-value: {p_2}.') \n",
    "print('Эффект: +: Стат. значимый рост.')\n",
    "print(' ')\n",
    "print('Метрика: Число мэтчей на юзера.')\n",
    "print('Используемый тест: t-test.')\n",
    "print(f'P-value: {p_3}.') \n",
    "print('Эффект: +: Стат. значимый рост.')\n",
    "print(' ')\n",
    "print('Метрика: Число юзеров без мэтчей.')\n",
    "print('Используемый тест: хи-квадрат.')\n",
    "print(f'P-value: {p_4}.') \n",
    "print('Эффект: +: Стат. значимое снижение.')"
   ]
  },
  {
   "cell_type": "markdown",
   "metadata": {},
   "source": [
    ">**т.к. по результатам проверки 4х метрик было заключено, что новый алгоритм работает эффективнее, делаем вывод о том, что его стоит раскатывать на всех пользователей.**"
   ]
  }
 ],
 "metadata": {
  "kernelspec": {
   "display_name": "Python 3",
   "language": "python",
   "name": "python3"
  },
  "language_info": {
   "codemirror_mode": {
    "name": "ipython",
    "version": 3
   },
   "file_extension": ".py",
   "mimetype": "text/x-python",
   "name": "python",
   "nbconvert_exporter": "python",
   "pygments_lexer": "ipython3",
   "version": "3.7.3"
  }
 },
 "nbformat": 4,
 "nbformat_minor": 4
}
